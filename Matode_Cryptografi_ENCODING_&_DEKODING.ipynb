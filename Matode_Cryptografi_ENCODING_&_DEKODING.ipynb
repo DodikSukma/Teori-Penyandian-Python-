{
  "nbformat": 4,
  "nbformat_minor": 0,
  "metadata": {
    "colab": {
      "provenance": [],
      "collapsed_sections": [
        "X8BWYyrL7fro",
        "_m0V_f2a9VpD",
        "kKEN4DKA-yc4",
        "vdH9XA4k_0Gn",
        "MueRqBfUBa9X"
      ]
    },
    "kernelspec": {
      "name": "python3",
      "display_name": "Python 3"
    },
    "language_info": {
      "name": "python"
    }
  },
  "cells": [
    {
      "cell_type": "markdown",
      "source": [
        "# Metode Caesar"
      ],
      "metadata": {
        "id": "X8BWYyrL7fro"
      }
    },
    {
      "cell_type": "markdown",
      "source": [
        "* METODE CAESAR DENGAN ALPHABETH"
      ],
      "metadata": {
        "id": "4ByXmS5z7tQ0"
      }
    },
    {
      "cell_type": "code",
      "execution_count": null,
      "metadata": {
        "colab": {
          "base_uri": "https://localhost:8080/"
        },
        "id": "jDW0QXXW7Xir",
        "outputId": "b2d0166e-3083-4a73-b02d-4a983500569d"
      },
      "outputs": [
        {
          "output_type": "stream",
          "name": "stdout",
          "text": [
            "Abjad yang digunakan :  abcdefghijklmnopqrstuvwxyzABCDEFGHIJKLMNOPQRSTUVWXYZ\n",
            "Masukkan pesan :  XQGLNVKD\n",
            "e = enkripsi / d = deksripsi : d\n",
            "Masukan Pergesran : 3\n",
            "ENKRIPSI :   UNDIKSHA\n"
          ]
        }
      ],
      "source": [
        "import string\n",
        "abjad = string.ascii_letters    # kuncinya\n",
        "print(\"Abjad yang digunakan : \",abjad)                    # melihat kunci\n",
        "# Definisikan Abjad\n",
        "abjad = string.ascii_letters\n",
        "\n",
        "# Inputan User\n",
        "pesan = list(input('Masukkan pesan : '))\n",
        "\n",
        "# Membuat Pilihan\n",
        "enkrip_dekrip = input('e = enkripsi / d = deksripsi : ').lower()\n",
        "\n",
        "kunci = int(input(\"Masukan Pergesran : \"))\n",
        "\n",
        "# Membuat enkripsi\n",
        "if enkrip_dekrip == 'e':\n",
        "    for i in range(len(pesan)):\n",
        "        if pesan[i] == ' ': \n",
        "            pesan[i] = ' '\n",
        "        elif pesan[i] in string.punctuation:\n",
        "            jawaban = pesan[i]\n",
        "        elif pesan[i] in string.digits:\n",
        "            jawaban = pesan[i]\n",
        "        elif pesan[i] in string.ascii_uppercase:\n",
        "            jawaban = (abjad.index(pesan[i]) + kunci) % 26\n",
        "            pesan[i] = abjad[jawaban].upper()\n",
        "        else:\n",
        "            jawaban = (abjad.index(pesan[i]) + kunci) % 26\n",
        "            pesan[i] = abjad[jawaban]\n",
        "    print(\"ENKRIPSI : \",''.join(pesan))\n",
        "\n",
        "# Membuat dekripsi\n",
        "elif enkrip_dekrip == 'd':\n",
        "    for i in range(len(pesan)):\n",
        "        if pesan[i] == ' ':\n",
        "            pesan[i] = ' '\n",
        "        elif pesan[i] in string.punctuation:\n",
        "            jawaban = pesan[i]\n",
        "        elif pesan[i] in string.digits:\n",
        "            jawaban = pesan[i]\n",
        "        elif pesan[i] in string.ascii_uppercase:\n",
        "            jawaban = (abjad.index(pesan[i]) - kunci) % 26\n",
        "            pesan[i] = abjad[jawaban].upper()\n",
        "        else:\n",
        "            jawaban = (abjad.index(pesan[i]) - kunci) % 26\n",
        "            pesan[i] = abjad[jawaban]\n",
        "    print(\"DEKRIPSI : \",''.join(pesan))"
      ]
    },
    {
      "cell_type": "markdown",
      "source": [
        "* METODE CAESAR DENGAN ASKY"
      ],
      "metadata": {
        "id": "aXOfNQuf8sqq"
      }
    },
    {
      "cell_type": "code",
      "source": [
        "# Import Module\n",
        "import string       # module untuk mengakses huruf pada python\n",
        "\n",
        "# Fungsi awal\n",
        "\n",
        "def operasi(teks, kunci, geser):\n",
        "    hasil = ''\n",
        "\n",
        "# Jika Maka Statement\n",
        "\n",
        "  # Membuat Rumus Enkripsi\n",
        "    for i in range(len(teks)):              # ini perulangan\n",
        "        kata = teks[i]                      # ini indeks kata\n",
        "        if geser == 'e':\n",
        "            if kata.isupper():              # ispuuper = diubah ke kapital\n",
        "                hasil += chr((ord(kata) + kunci - 65) % 26 + 65)   # ini rumus caesar   \n",
        "\n",
        "            elif kata.islower():\n",
        "                hasil += chr((ord(kata) + kunci - 97) % 26 + 97)\n",
        "\n",
        "            elif kata in string.punctuation or string.digits:\n",
        "                hasil += teks[i]\n",
        "    # Membuat Rumus Dekripsi\n",
        "        elif geser == 'd':          \n",
        "            if kata.isupper():\n",
        "                hasil += chr((ord(kata) - kunci - 65) % 26 + 65)\n",
        "\n",
        "            elif kata.islower():\n",
        "                hasil += chr((ord(kata) - kunci - 97) % 26 + 97)\n",
        "\n",
        "            elif kata in string.punctuation or string.digits:\n",
        "                hasil += teks[i]\n",
        "\n",
        "    return hasil\n",
        "\n",
        "\n",
        "# Membuat Inputan User\n",
        "\n",
        "while (True):\n",
        "  perintah = input(\"Ingin Melakukan Encoding ( y / t) ? :\")\n",
        "  if perintah == 'y':\n",
        "    teks = input(\"Masukkan Teks : \")\n",
        "    kunci = int(input('Masukkan kunci : '))\n",
        "    geser = input('enkrip or dekrip (e / d) : ').lower()\n",
        "    print(\"\\nPesan: \", teks)\n",
        "    print(\"Kunci: \", kunci)\n",
        "    print(\"Hasil: \", operasi(teks, kunci, geser))\n",
        "\n",
        "  if perintah == 't':\n",
        "    print(\"Tetap Jaga Rahasia Teks\")\n",
        "    break"
      ],
      "metadata": {
        "colab": {
          "base_uri": "https://localhost:8080/"
        },
        "id": "URDC17KK8v5J",
        "outputId": "948fb16a-e733-420e-f58d-dc86bd429c05"
      },
      "execution_count": null,
      "outputs": [
        {
          "output_type": "stream",
          "name": "stdout",
          "text": [
            "Ingin Melakukan Encoding ( y / t) ? :y\n",
            "Masukkan Teks : Undiksha\n",
            "Masukkan kunci : 3\n",
            "enkrip or dekrip (e / d) : e\n",
            "\n",
            "Pesan:  Undiksha\n",
            "Kunci:  3\n",
            "Hasil:  Xqglnvkd\n",
            "Ingin Melakukan Encoding ( y / t) ? :y\n",
            "Masukkan Teks : Xqglnvkd\n",
            "Masukkan kunci : 3\n",
            "enkrip or dekrip (e / d) : d\n",
            "\n",
            "Pesan:  Xqglnvkd\n",
            "Kunci:  3\n",
            "Hasil:  Undiksha\n",
            "Ingin Melakukan Encoding ( y / t) ? :t\n",
            "Tetap Jaga Rahasia Teks\n"
          ]
        }
      ]
    },
    {
      "cell_type": "markdown",
      "source": [
        "# METODE VIGNERE"
      ],
      "metadata": {
        "id": "_m0V_f2a9VpD"
      }
    },
    {
      "cell_type": "code",
      "source": [
        "# Kode Python untuk diterapkan\n",
        "# Vigenere Cipher\n",
        "\n",
        "# Fungsi ini menghasilkan kunci secara siklik sampai Panjangnya tidak sama dengan panjang teks asli\n",
        "def generateKey(pesan, key):\n",
        "\tkey = list(key)\n",
        "\tif len(string) == len(key):\n",
        "\t\treturn(key)\n",
        "\telse:\n",
        "\t\tfor i in range(len(string) -\n",
        "\t\t\t\t\tlen(key)):\n",
        "\t\t\tkey.append(key[i % len(key)])\n",
        "\treturn(\"\" . join(key))\n",
        "\t\n",
        "# Fungsi ini mengembalikan teks terenkripsi dihasilkan dengan bantuan kunci\n",
        "def cipherText(pesan, key):\n",
        "\tcipher_text = []\n",
        "\tfor i in range(len(string)):\n",
        "\t\tx = (ord(string[i]) +\n",
        "\t\t\tord(key[i])) % 26\n",
        "\t\tx += ord('A')\n",
        "\t\tcipher_text.append(chr(x))\n",
        "\treturn(\"\" . join(cipher_text))\n",
        " \n",
        "# Fungsi ini mendekripsi file Teks terenkripsi dan kembali teks asli\n",
        "def originalText(cipher_text, key):\n",
        "\torig_text = []\n",
        "\tfor i in range(len(cipher_text)):\n",
        "\t\tx = (ord(cipher_text[i]) -\n",
        "\t\t\tord(key[i]) + 26) % 26\n",
        "\t\tx += ord('A')\n",
        "\t\torig_text.append(chr(x))\n",
        "\treturn(\"\" . join(orig_text))\n",
        "\t\n",
        "# Driver code\n",
        "if __name__ == \"__main__\":\n",
        "\tpesan= \"UNDIKSHA\"\n",
        "\tkeyword = \"BALI\"\n",
        "\tkey = generateKey(pesan, keyword)\n",
        "\tcipher_text = cipherText(pesan,key)\n",
        " \n",
        " # Menampilkan Enkripsi\n",
        "\tprint(\"Ciphertext :\", cipher_text)\n",
        " \n",
        " # Menampilkan Dekirpsi\n",
        "\tprint(\"Original/Decrypted Text :\",\n",
        "\t\toriginalText(cipher_text, key))\n",
        " "
      ],
      "metadata": {
        "colab": {
          "base_uri": "https://localhost:8080/"
        },
        "id": "9SM7ql309YEI",
        "outputId": "f31fed0f-132e-43e4-beb5-4ea26e7ea978"
      },
      "execution_count": null,
      "outputs": [
        {
          "output_type": "stream",
          "name": "stdout",
          "text": [
            "Ciphertext : VNOQLSSI\n",
            "Original/Decrypted Text : UNDIKSHA\n"
          ]
        }
      ]
    },
    {
      "cell_type": "markdown",
      "source": [
        "# METODE RSA"
      ],
      "metadata": {
        "id": "kKEN4DKA-yc4"
      }
    },
    {
      "cell_type": "code",
      "source": [
        "# Python untuk algoritma kriptografi asimetris RSA.\n",
        "# Untuk demonstrasi, nilainya adalah Relatif kecil dibandingkan dengan aplikasi praktis\n",
        "import math         # Moduule untuk perthitungan Matematika\n",
        "\n",
        "\n",
        "def gcd(a, h):\n",
        "\ttemp = 0\n",
        "\twhile(1):\n",
        "\t\ttemp = a % h\n",
        "\t\tif (temp == 0):\n",
        "\t\t\treturn h\n",
        "\t\ta = h\n",
        "\t\th = temp\n",
        "\n",
        "\n",
        "p = 3\n",
        "q = 7\n",
        "n = p*q\n",
        "e = 2\n",
        "phi = (p-1)*(q-1)\n",
        "\n",
        "while (e < phi):\n",
        "\n",
        "# e harus co-prime untuk phi dan\n",
        "# lebih kecil dari phi.\n",
        "\tif(gcd(e, phi) == 1):\n",
        "\t\tbreak\n",
        "\telse:\n",
        "\t\te = e+1\n",
        "\n",
        "\n",
        "# Kunci pribadi (d adalah singkatan dari dekripsi)\n",
        "# memilih d sedemikian rupa sehingga memuaskan\n",
        "# d*e = 1 + k * phi/e\n",
        "k = 2\n",
        "d = (1 + (k*phi))/e\n",
        "\n",
        "# Pesan Hanya Berupa Angka\n",
        "msg = 12.0                  # Ganti Pesan Disini\n",
        "\n",
        "print(\"Pesan data = \", msg)\n",
        "\n",
        "# Enkripsi c = (pesan ^ e)% n\n",
        "c = pow(msg, e)\n",
        "c = math.fmod(c, n)\n",
        "print(\"Enkripsi data = \", c)\n",
        "\n",
        "# Dekripsi m = (c ^ d)% n\n",
        "m = pow(c, d)\n",
        "m = math.fmod(m, n)\n",
        "print(\"Dekripsi Data = \", m)"
      ],
      "metadata": {
        "colab": {
          "base_uri": "https://localhost:8080/"
        },
        "id": "fzUQMH5z-0kD",
        "outputId": "1edf3000-e63f-40fa-e65d-cd047a7bd9bb"
      },
      "execution_count": null,
      "outputs": [
        {
          "output_type": "stream",
          "name": "stdout",
          "text": [
            "Pesan data =  12.0\n",
            "Enkripsi data =  3.0\n",
            "Dekripsi Data =  12.0\n"
          ]
        }
      ]
    },
    {
      "cell_type": "markdown",
      "source": [
        "# Metode Play fair"
      ],
      "metadata": {
        "id": "vdH9XA4k_0Gn"
      }
    },
    {
      "cell_type": "code",
      "source": [
        "# Program Python untuk mengimplementasikan Playfair Cipher\n",
        "\n",
        "# Berfungsi untuk mengubah string menjadi huruf kecil\n",
        "def toLowerCase(text):\n",
        "\treturn text.lower()\n",
        " \n",
        "# Berfungsi untuk menghapus semua spasi dalam sebuah string\n",
        "def removeSpaces(text):\n",
        "\tnewText = \"\"\n",
        "\tfor i in text:\n",
        "\t\tif i == \" \":\n",
        "\t\t\tcontinue\n",
        "\t\telse:\n",
        "\t\t\tnewText = newText + i\n",
        "\treturn newText\n",
        "\n",
        "# Berfungsi untuk mengelompokkan 2 elemen string\n",
        "# sebagai elemen daftar\n",
        "\n",
        "\n",
        "def Diagraph(text):\n",
        "\tDiagraph = []\n",
        "\tgroup = 0\n",
        "\tfor i in range(2, len(text), 2):\n",
        "\t\tDiagraph.append(text[group:i])\n",
        "\n",
        "\t\tgroup = i\n",
        "\tDiagraph.append(text[group:])\n",
        "\treturn Diagraph\n",
        "\n",
        "\n",
        "# Berfungsi untuk mengisi huruf pada elemen string\n",
        "# Jika 2 huruf dalam string yang sama cocok\n",
        "\n",
        "\n",
        "def FillerLetter(text):\n",
        "\tk = len(text)\n",
        "\tif k % 2 == 0:\n",
        "\t\tfor i in range(0, k, 2):\n",
        "\t\t\tif text[i] == text[i+1]:\n",
        "\t\t\t\tnew_word = text[0:i+1] + str('x') + text[i+1:]\n",
        "\t\t\t\tnew_word = FillerLetter(new_word)\n",
        "\t\t\t\tbreak\n",
        "\t\t\telse:\n",
        "\t\t\t\tnew_word = text\n",
        "\telse:\n",
        "\t\tfor i in range(0, k-1, 2):\n",
        "\t\t\tif text[i] == text[i+1]:\n",
        "\t\t\t\tnew_word = text[0:i+1] + str('x') + text[i+1:]\n",
        "\t\t\t\tnew_word = FillerLetter(new_word)\n",
        "\t\t\t\tbreak\n",
        "\t\t\telse:\n",
        "\t\t\t\tnew_word = text\n",
        "\treturn new_word\n",
        "\n",
        "\n",
        "list1 = ['a', 'b', 'c', 'd', 'e', 'f', 'g', 'h', 'i', 'k', 'l', 'm',\n",
        "\t\t'n', 'o', 'p', 'q', 'r', 's', 't', 'u', 'v', 'w', 'x', 'y', 'z']\n",
        "\n",
        "\n",
        "# Berfungsi untuk menghasilkan matriks persegi 5x5\n",
        "def generateKeyTable(word, list1):\n",
        "\tkey_letters = []\n",
        "\tfor i in word:\n",
        "\t\tif i not in key_letters:\n",
        "\t\t\tkey_letters.append(i)\n",
        "\n",
        "\tcompElements = []\n",
        "\tfor i in key_letters:\n",
        "\t\tif i not in compElements:\n",
        "\t\t\tcompElements.append(i)\n",
        "\tfor i in list1:\n",
        "\t\tif i not in compElements:\n",
        "\t\t\tcompElements.append(i)\n",
        "\n",
        "\tmatrix = []\n",
        "\twhile compElements != []:\n",
        "\t\tmatrix.append(compElements[:5])\n",
        "\t\tcompElements = compElements[5:]\n",
        "\n",
        "\treturn matrix\n",
        "\n",
        "\n",
        "def search(mat, element):\n",
        "\tfor i in range(5):\n",
        "\t\tfor j in range(5):\n",
        "\t\t\tif(mat[i][j] == element):\n",
        "\t\t\t\treturn i, j\n",
        "\n",
        "\n",
        "def encrypt_RowRule(matr, e1r, e1c, e2r, e2c):\n",
        "\tchar1 = ''\n",
        "\tif e1c == 4:\n",
        "\t\tchar1 = matr[e1r][0]\n",
        "\telse:\n",
        "\t\tchar1 = matr[e1r][e1c+1]\n",
        "\n",
        "\tchar2 = ''\n",
        "\tif e2c == 4:\n",
        "\t\tchar2 = matr[e2r][0]\n",
        "\telse:\n",
        "\t\tchar2 = matr[e2r][e2c+1]\n",
        "\n",
        "\treturn char1, char2\n",
        "\n",
        "\n",
        "def encrypt_ColumnRule(matr, e1r, e1c, e2r, e2c):\n",
        "\tchar1 = ''\n",
        "\tif e1r == 4:\n",
        "\t\tchar1 = matr[0][e1c]\n",
        "\telse:\n",
        "\t\tchar1 = matr[e1r+1][e1c]\n",
        "\n",
        "\tchar2 = ''\n",
        "\tif e2r == 4:\n",
        "\t\tchar2 = matr[0][e2c]\n",
        "\telse:\n",
        "\t\tchar2 = matr[e2r+1][e2c]\n",
        "\n",
        "\treturn char1, char2\n",
        "\n",
        "\n",
        "def encrypt_RectangleRule(matr, e1r, e1c, e2r, e2c):\n",
        "\tchar1 = ''\n",
        "\tchar1 = matr[e1r][e2c]\n",
        "\n",
        "\tchar2 = ''\n",
        "\tchar2 = matr[e2r][e1c]\n",
        "\n",
        "\treturn char1, char2\n",
        "\n",
        "\n",
        "def encryptByPlayfairCipher(Matrix, plainList):\n",
        "\tCipherText = []\n",
        "\tfor i in range(0, len(plainList)):\n",
        "\t\tc1 = 0\n",
        "\t\tc2 = 0\n",
        "\t\tele1_x, ele1_y = search(Matrix, plainList[i][0])\n",
        "\t\tele2_x, ele2_y = search(Matrix, plainList[i][1])\n",
        "\n",
        "\t\tif ele1_x == ele2_x:\n",
        "\t\t\tc1, c2 = encrypt_RowRule(Matrix, ele1_x, ele1_y, ele2_x, ele2_y)\n",
        "\t\telif ele1_y == ele2_y:\n",
        "\t\t\tc1, c2 = encrypt_ColumnRule(Matrix, ele1_x, ele1_y, ele2_x, ele2_y)\n",
        "\t\telse:\n",
        "\t\t\tc1, c2 = encrypt_RectangleRule(\n",
        "\t\t\t\tMatrix, ele1_x, ele1_y, ele2_x, ele2_y)\n",
        "\n",
        "\t\tcipher = c1 + c2\n",
        "\t\tCipherText.append(cipher)\n",
        "\treturn CipherText\n",
        "\n",
        "# Membuat Inputan Pesan\n",
        "\n",
        "text_Plain = 'UNDIKSHA'\n",
        "text_Plain = removeSpaces(toLowerCase(text_Plain))\n",
        "PlainTextList = Diagraph(FillerLetter(text_Plain))\n",
        "if len(PlainTextList[-1]) != 2:\n",
        "\tPlainTextList[-1] = PlainTextList[-1]+'z'\n",
        "\n",
        "key = \"SINGARAJA\"\n",
        "print(\"Key text:\", key)\n",
        "key = toLowerCase(key)\n",
        "Matrix = generateKeyTable(key, list1)\n",
        "\n",
        "print(\"Plain Text:\", text_Plain)\n",
        "CipherList = encryptByPlayfairCipher(Matrix, PlainTextList)\n",
        "\n",
        "CipherText = \"\"\n",
        "for i in CipherList:\n",
        "\tCipherText += i\n",
        "print(\"CipherText:\", CipherText)\n",
        "\n"
      ],
      "metadata": {
        "colab": {
          "base_uri": "https://localhost:8080/"
        },
        "id": "MqtHOomh_62o",
        "outputId": "9e128511-6161-4552-cb8a-53ab95f45110"
      },
      "execution_count": null,
      "outputs": [
        {
          "output_type": "stream",
          "name": "stdout",
          "text": [
            "Key text: SINGARAJA\n",
            "Plain Text: undiksha\n",
            "CipherText: wsjaegln\n"
          ]
        }
      ]
    },
    {
      "cell_type": "markdown",
      "source": [
        "# Metode Hill Cipher"
      ],
      "metadata": {
        "id": "MueRqBfUBa9X"
      }
    },
    {
      "cell_type": "code",
      "source": [
        "# Kode Python3 untuk mengimplementasikan Hill Cipher\n",
        "\n",
        "keyMatrix = [[0] * 3 for i in range(3)]\n",
        "\n",
        "# Hasilkan vektor untuk pesan\n",
        "messageVector = [[0] for i in range(3)]\n",
        "\n",
        "# Hasilkan vektor untuk sandi\n",
        "cipherMatrix = [[0] for i in range(3)]\n",
        "\n",
        "# Fungsi berikut menghasilkan\n",
        "# matriks kunci untuk string kunci\n",
        "def getKeyMatrix(key):\n",
        "\tk = 0\n",
        "\tfor i in range(3):\n",
        "\t\tfor j in range(3):\n",
        "\t\t\tkeyMatrix[i][j] = ord(key[k]) % 65\n",
        "\t\t\tk += 1\n",
        "\n",
        "# Fungsi berikut mengenkripsi pesan\n",
        "def encrypt(messageVector):\n",
        "\tfor i in range(3):\n",
        "\t\tfor j in range(1):\n",
        "\t\t\tcipherMatrix[i][j] = 0\n",
        "\t\t\tfor x in range(3):\n",
        "\t\t\t\tcipherMatrix[i][j] += (keyMatrix[i][x] *\n",
        "\t\t\t\t\t\t\t\t\tmessageVector[x][j])\n",
        "\t\t\tcipherMatrix[i][j] = cipherMatrix[i][j] % 26\n",
        "\n",
        "def HillCipher(message, key):\n",
        "\n",
        "\t\n",
        "# Dapatkan matriks kunci dari string kunci\n",
        "\tgetKeyMatrix(key)\n",
        "\n",
        "\t# Hasilkan vektor untuk pesan\n",
        "\tfor i in range(3):\n",
        "\t\tmessageVector[i][0] = ord(message[i]) % 65\n",
        "\n",
        "# Fungsi berikut menghasilkan\n",
        "# vektor terenkripsi\n",
        "\tencrypt(messageVector)\n",
        "\n",
        "\n",
        "# Hasilkan teks terenkripsi\n",
        "# dari vektor terenkripsi\n",
        "\tCipherText = []\n",
        "\tfor i in range(3):\n",
        "\t\tCipherText.append(chr(cipherMatrix[i][0] + 65))\n",
        "  \n",
        "# Mengeluarkan Chipertekxt\n",
        "\tprint(\"Hasil Ciphertext : \", \"\".join(CipherText))\n",
        "\n",
        "# Membuat Inputan User\n",
        "def main():\n",
        "\n",
        "\t# Pesan\n",
        "\tmessage = \"DODIK\"\n",
        "\n",
        "\t# Kunci\n",
        "\tkey = \"BGYBNQKURP\"\n",
        "\n",
        "\tHillCipher(message, key)\n",
        "\n",
        "if __name__ == \"__main__\":\n",
        "\tmain()\n",
        "\n"
      ],
      "metadata": {
        "colab": {
          "base_uri": "https://localhost:8080/"
        },
        "id": "3WayKSs3BZQu",
        "outputId": "570b20e2-8038-4b85-aa93-c12d1bae78f6"
      },
      "execution_count": null,
      "outputs": [
        {
          "output_type": "stream",
          "name": "stdout",
          "text": [
            "Hasil Ciphertext :  DZX\n"
          ]
        }
      ]
    },
    {
      "cell_type": "markdown",
      "source": [
        "# Metode Affine"
      ],
      "metadata": {
        "id": "6bnj_NbyCtbK"
      }
    },
    {
      "cell_type": "code",
      "source": [
        "\n",
        "# Implementasi Affine Cipher dengan Python\n",
        "\n",
        "# Extended Euclidean Algorithm untuk menemukan invers modular\n",
        "# misalnya: modinv(7, 26) = 15\n",
        "def egcd(a, b):\n",
        "\tx,y, u,v = 0,1, 1,0\n",
        "\twhile a != 0:\n",
        "\t\tq, r = b//a, b%a\n",
        "\t\tm, n = x-u*q, y-v*q\n",
        "\t\tb,a, x,y, u,v = a,r, u,v, m,n\n",
        "\tgcd = b\n",
        "\treturn gcd, x, y\n",
        "\n",
        "def modinv(a, m):\n",
        "\tgcd, x, y = egcd(a, m)\n",
        "\tif gcd != 1:\n",
        "\t\treturn None \n",
        "# pembalikan modular tidak ada\n",
        "\telse:\n",
        "\t\treturn x % m\n",
        "\n",
        "\n",
        "\n",
        "# fungsi enkripsi sandi affine\n",
        "# mengembalikan teks sandi\n",
        "def affine_encrypt(text, key):\n",
        "\t'''\n",
        "\tC = (a*P + b) % 26\n",
        "\t'''\n",
        "\treturn ''.join([ chr((( key[0]*(ord(t) - ord('A')) + key[1] ) % 26)\n",
        "\t\t\t\t+ ord('A')) for t in text.upper().replace(' ', '') ])\n",
        " \n",
        "\n",
        "# fungsi dekripsi affine cipher\n",
        "# mengembalikan teks asli\n",
        "def affine_decrypt(cipher, key):\n",
        "\t'''\n",
        "\tP = (a^-1 * (C - b)) % 26\n",
        "\t'''\n",
        "\treturn ''.join([ chr((( modinv(key[0], 26)*(ord(c) - ord('A') - key[1]))\n",
        "\t\t\t\t\t% 26) + ord('A')) for c in cipher ])\n",
        "\n",
        "# Inputan User\n",
        "def main():\n",
        "\n",
        "\n",
        "\ttext = 'UNDIKSHA JAYA'\n",
        "\tkey = [17, 20]\n",
        "  \n",
        "\n",
        "  # Enkripsi\n",
        "\taffine_encrypted_text = affine_encrypt(text, key)\n",
        "\tprint('ENKRIPSI : {}'.format( affine_encrypted_text ))\n",
        "\n",
        "  # Dekripsi\n",
        "\tprint('DEKRIPSI : {}'.format\n",
        "\t( affine_decrypt(affine_encrypted_text, key) ))\n",
        "\n",
        "\n",
        "if __name__ == '__main__':\n",
        "\tmain()\n",
        "\n"
      ],
      "metadata": {
        "colab": {
          "base_uri": "https://localhost:8080/"
        },
        "id": "lxBFXuiiCrXG",
        "outputId": "77bc000d-e3af-4681-aefd-2a45339c62f0"
      },
      "execution_count": null,
      "outputs": [
        {
          "output_type": "stream",
          "name": "stdout",
          "text": [
            "ENKRIPSI : WHTAIOJURUMU\n",
            "DEKRIPSI : UNDIKSHAJAYA\n"
          ]
        }
      ]
    }
  ]
}